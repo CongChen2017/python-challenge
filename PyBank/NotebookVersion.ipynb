{
 "cells": [
  {
   "cell_type": "code",
   "execution_count": 1,
   "metadata": {
    "collapsed": true
   },
   "outputs": [],
   "source": [
    "import os\n",
    "import csv"
   ]
  },
  {
   "cell_type": "code",
   "execution_count": 2,
   "metadata": {
    "collapsed": true
   },
   "outputs": [],
   "source": [
    "def print_separator():\n",
    "\tprint()\n",
    "\tprint('Financial Analysis')\n",
    "\tprint('-----------------------')"
   ]
  },
  {
   "cell_type": "code",
   "execution_count": 3,
   "metadata": {
    "collapsed": true
   },
   "outputs": [],
   "source": [
    "def get_file_names(dir_name):\n",
    "\treturn os.listdir(dir_name)"
   ]
  },
  {
   "cell_type": "code",
   "execution_count": 4,
   "metadata": {
    "collapsed": true
   },
   "outputs": [],
   "source": [
    "def print_calculation(Months, Total, Mean):\n",
    "    print('Total Months: {0}'.format(Months))\n",
    "    print('Total Revenue: ${0}'.format(Total))\n",
    "    print('Average Revenue Change: ${0}'.format(Mean))"
   ]
  },
  {
   "cell_type": "code",
   "execution_count": 5,
   "metadata": {},
   "outputs": [],
   "source": [
    "def print_info_for_file(file):\n",
    "    \n",
    "    csvpath = os.path.join(foldername, filename)\n",
    "    date = []\n",
    "    revenue = []\n",
    "    change = [0]\n",
    "    changesum = 0\n",
    "    mostincr = 0\n",
    "    mostdecr = 0\n",
    "    totalrev = 0\n",
    "    \n",
    "    with open(csvpath, newline='') as csvfile:\n",
    "        csvreader = csv.reader(csvfile, delimiter=',')\n",
    "        \n",
    "        next(csvreader, None)\n",
    "        \n",
    "        for row in csvreader:\n",
    "            date.append(row[0])\n",
    "            revenue.append(row[1])\n",
    "        \n",
    "    for i in range(0, len(revenue)-1):\n",
    "        change.append(int(revenue[i+1]) - int(revenue[i]))\n",
    "\n",
    "    for j in range(0, len(change)):\n",
    "        if change[j] > mostincr:\n",
    "            mostincr = change[j]\n",
    "        if change[j] < mostdecr:\n",
    "            mostdecr = change[j]\n",
    "        changesum = changesum + abs(change[j])\n",
    "        totalrev = totalrev + int(revenue[j])\n",
    "    \n",
    "    print_separator()\n",
    "    \n",
    "    print_calculation(len(date), totalrev, int(changesum/(len(change)-1)))\n",
    "    \n",
    "    print(\"Greatest Increase in Revenue: \" + date[change.index(mostincr)] + \" ($\" + str(mostincr) + \")\")\n",
    "    print(\"Greatest Decrease in Revenue: \" + date[change.index(mostdecr)] + \" ($\" + str(mostdecr) + \")\")\n",
    "    print()\n",
    "    \n",
    "    with open('Report_' + filename.split('.')[0] + '.txt', 'w', newline='') as textfile:\n",
    "        textfile.write(\"Financial Analysis\" + \"\\n\")\n",
    "        textfile.write(\"----------------------------\" + \"\\n\")\n",
    "        textfile.write(\"Total Months: \" + str(len(date)) + \"\\n\")\n",
    "        textfile.write(\"Total Revenue: $\" + str(totalrev) + \"\\n\")\n",
    "        textfile.write(\"Average Revenue Change: $\" + str(int(changesum/(len(change)-1))) + \"\\n\")\n",
    "        textfile.write(\"Greatest Increase in Revenue: \" + date[change.index(mostincr)] + \" ($\" + str(mostincr) + \")\" + \"\\n\")\n",
    "        textfile.write(\"Greatest Decrease in Revenue: \" + date[change.index(mostdecr)] + \" ($\" + str(mostdecr) + \")\")"
   ]
  },
  {
   "cell_type": "code",
   "execution_count": 6,
   "metadata": {},
   "outputs": [
    {
     "name": "stdout",
     "output_type": "stream",
     "text": [
      "\n",
      "Financial Analysis\n",
      "-----------------------\n",
      "Total Months: 41\n",
      "Total Revenue: $18971412\n",
      "Average Revenue Change: $655158\n",
      "Greatest Increase in Revenue: Feb-16 ($1837235)\n",
      "Greatest Decrease in Revenue: Aug-14 ($-1779747)\n",
      "\n",
      "\n",
      "Financial Analysis\n",
      "-----------------------\n",
      "Total Months: 86\n",
      "Total Revenue: $36973911\n",
      "Average Revenue Change: $614501\n",
      "Greatest Increase in Revenue: Jul-2014 ($1645140)\n",
      "Greatest Decrease in Revenue: Jun-2014 ($-1947745)\n",
      "\n"
     ]
    }
   ],
   "source": [
    "foldername = 'raw_data'\n",
    "file_names = get_file_names(foldername)\n",
    "for filename in file_names:\n",
    "    print_info_for_file(filename)"
   ]
  },
  {
   "cell_type": "code",
   "execution_count": null,
   "metadata": {
    "collapsed": true
   },
   "outputs": [],
   "source": []
  }
 ],
 "metadata": {
  "kernelspec": {
   "display_name": "Python 3",
   "language": "python",
   "name": "python3"
  },
  "language_info": {
   "codemirror_mode": {
    "name": "ipython",
    "version": 3
   },
   "file_extension": ".py",
   "mimetype": "text/x-python",
   "name": "python",
   "nbconvert_exporter": "python",
   "pygments_lexer": "ipython3",
   "version": "3.6.1"
  }
 },
 "nbformat": 4,
 "nbformat_minor": 2
}
