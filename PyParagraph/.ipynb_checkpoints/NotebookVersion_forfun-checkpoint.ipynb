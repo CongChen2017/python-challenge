{
 "cells": [
  {
   "cell_type": "code",
   "execution_count": 8,
   "metadata": {
    "collapsed": true
   },
   "outputs": [],
   "source": [
    "import os\n",
    "import re"
   ]
  },
  {
   "cell_type": "code",
   "execution_count": 9,
   "metadata": {
    "collapsed": true
   },
   "outputs": [],
   "source": [
    "def print_separator():\n",
    "\tprint()\n",
    "\tprint('Prargraph Analysis')\n",
    "\tprint('--------------------')"
   ]
  },
  {
   "cell_type": "code",
   "execution_count": 10,
   "metadata": {
    "collapsed": true
   },
   "outputs": [],
   "source": [
    "def get_file_names(dir_name):\n",
    "\treturn os.listdir(dir_name)"
   ]
  },
  {
   "cell_type": "code",
   "execution_count": 11,
   "metadata": {
    "collapsed": true
   },
   "outputs": [],
   "source": [
    "def print_len_counts(Letter_count, word_len, sentence_len):\n",
    "\tprint(\"Average Letter Count: {0:.2f}\".format(Letter_count/word_len))\n",
    "\tprint(\"Average Sentence Length: {0:.1f}\".format(word_len/(sentence_len-1)))"
   ]
  },
  {
   "cell_type": "code",
   "execution_count": 12,
   "metadata": {
    "collapsed": true
   },
   "outputs": [],
   "source": [
    "def print_info_for_file_at_path(path):\n",
    "\ttextpath = os.path.join(foldername, current_file)\n",
    "\twith open(textpath, newline='') as textfile:\n",
    "\t\tparagraph = ''.join(textfile.readlines())\n",
    "\n",
    "\tprint_separator()\n",
    "\n",
    "\tword = re.split(\"\\s|(?<!\\d)[.,][,.](?!\\d)\", paragraph)\n",
    "\tprint(\"Approximate Word Count: {0}\".format(len(word)))\n",
    "\n",
    "\tsentence = re.split(r'[.!?]+', paragraph)\n",
    "\tprint(\"Approximate Sentence Count: {0}\".format(len(sentence)-1))\n",
    "\n",
    "\tletter_lst = []\n",
    "\n",
    "\tfor char in list(paragraph):\n",
    "\t\tif char.isalpha():\n",
    "\t\t\tletter_lst.append(char)\n",
    "\n",
    "\tprint_len_counts(len(letter_lst), len(word), len(sentence))\n",
    "\tprint()"
   ]
  },
  {
   "cell_type": "code",
   "execution_count": 13,
   "metadata": {},
   "outputs": [
    {
     "name": "stdout",
     "output_type": "stream",
     "text": [
      "\n",
      "Prargraph Analysis\n",
      "--------------------\n",
      "Approximate Word Count: 130\n",
      "Approximate Sentence Count: 5\n"
     ]
    },
    {
     "ename": "NameError",
     "evalue": "name 'isalpha' is not defined",
     "output_type": "error",
     "traceback": [
      "\u001b[0;31m---------------------------------------------------------------------------\u001b[0m",
      "\u001b[0;31mNameError\u001b[0m                                 Traceback (most recent call last)",
      "\u001b[0;32m<ipython-input-13-ea7a25bf563b>\u001b[0m in \u001b[0;36m<module>\u001b[0;34m()\u001b[0m\n\u001b[1;32m      2\u001b[0m \u001b[0mfile_names\u001b[0m \u001b[0;34m=\u001b[0m \u001b[0mget_file_names\u001b[0m\u001b[0;34m(\u001b[0m\u001b[0mfoldername\u001b[0m\u001b[0;34m)\u001b[0m\u001b[0;34m\u001b[0m\u001b[0m\n\u001b[1;32m      3\u001b[0m \u001b[0;32mfor\u001b[0m \u001b[0mcurrent_file\u001b[0m \u001b[0;32min\u001b[0m \u001b[0mfile_names\u001b[0m\u001b[0;34m:\u001b[0m\u001b[0;34m\u001b[0m\u001b[0m\n\u001b[0;32m----> 4\u001b[0;31m         \u001b[0mprint_info_for_file_at_path\u001b[0m\u001b[0;34m(\u001b[0m\u001b[0mcurrent_file\u001b[0m\u001b[0;34m)\u001b[0m\u001b[0;34m\u001b[0m\u001b[0m\n\u001b[0m",
      "\u001b[0;32m<ipython-input-12-7e3eb01ac8c1>\u001b[0m in \u001b[0;36mprint_info_for_file_at_path\u001b[0;34m(path)\u001b[0m\n\u001b[1;32m     15\u001b[0m \u001b[0;34m\u001b[0m\u001b[0m\n\u001b[1;32m     16\u001b[0m         \u001b[0;32mfor\u001b[0m \u001b[0mchar\u001b[0m \u001b[0;32min\u001b[0m \u001b[0mlist\u001b[0m\u001b[0;34m(\u001b[0m\u001b[0mparagraph\u001b[0m\u001b[0;34m)\u001b[0m\u001b[0;34m:\u001b[0m\u001b[0;34m\u001b[0m\u001b[0m\n\u001b[0;32m---> 17\u001b[0;31m                 \u001b[0;32mif\u001b[0m \u001b[0misalpha\u001b[0m\u001b[0;34m(\u001b[0m\u001b[0mchar\u001b[0m\u001b[0;34m)\u001b[0m\u001b[0;34m:\u001b[0m\u001b[0;34m\u001b[0m\u001b[0m\n\u001b[0m\u001b[1;32m     18\u001b[0m                         \u001b[0mletter_lst\u001b[0m\u001b[0;34m.\u001b[0m\u001b[0mappend\u001b[0m\u001b[0;34m(\u001b[0m\u001b[0mchar\u001b[0m\u001b[0;34m)\u001b[0m\u001b[0;34m\u001b[0m\u001b[0m\n\u001b[1;32m     19\u001b[0m \u001b[0;34m\u001b[0m\u001b[0m\n",
      "\u001b[0;31mNameError\u001b[0m: name 'isalpha' is not defined"
     ]
    }
   ],
   "source": [
    "foldername = 'raw_data'\n",
    "file_names = get_file_names(foldername)\n",
    "for current_file in file_names:\n",
    "\tprint_info_for_file_at_path(current_file)"
   ]
  },
  {
   "cell_type": "code",
   "execution_count": null,
   "metadata": {
    "collapsed": true
   },
   "outputs": [],
   "source": []
  }
 ],
 "metadata": {
  "kernelspec": {
   "display_name": "Python 3",
   "language": "python",
   "name": "python3"
  },
  "language_info": {
   "codemirror_mode": {
    "name": "ipython",
    "version": 3
   },
   "file_extension": ".py",
   "mimetype": "text/x-python",
   "name": "python",
   "nbconvert_exporter": "python",
   "pygments_lexer": "ipython3",
   "version": "3.6.1"
  }
 },
 "nbformat": 4,
 "nbformat_minor": 2
}
